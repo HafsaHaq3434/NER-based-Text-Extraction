{
  "nbformat": 4,
  "nbformat_minor": 0,
  "metadata": {
    "colab": {
      "provenance": []
    },
    "kernelspec": {
      "name": "python3",
      "display_name": "Python 3"
    },
    "language_info": {
      "name": "python"
    }
  },
  "cells": [
    {
      "cell_type": "code",
      "execution_count": null,
      "metadata": {
        "colab": {
          "base_uri": "https://localhost:8080/"
        },
        "id": "KIkKqy2MMb_K",
        "outputId": "434ae0e5-517e-4924-fa4d-ecd2d7557c7c"
      },
      "outputs": [
        {
          "output_type": "stream",
          "name": "stdout",
          "text": [
            "{'Name': 'Jima Perez', 'Phone': '0654558089', 'Email': 'jima.perez@skillfuel.nl', 'Soft Skills': ['Marketing', 'Team work', 'Teaching', 'Presentation'], 'Hard Skills': ['R', 'Python', 'Excel'], 'Job Preference': ['Hardware', 'Remote working', 'Education'], 'Company Preference': ['Size', 'Pension plan'], 'Salary Aim': 3000, 'Years of experience': 4, 'Location': {'Country': 'NL', 'City': 'AMS'}}\n"
          ]
        }
      ],
      "source": [
        "import json\n",
        "\n",
        "with open('/content/employees.json') as employees:\n",
        "  emp=json.load(employees)\n",
        "\n",
        "with open('/content/Vacancies 3.json') as Vacancies:\n",
        "  Vacan=json.load(Vacancies) \n",
        "print(emp[0])"
      ]
    },
    {
      "cell_type": "code",
      "source": [
        "print(emp[0]['Location']['Country'])"
      ],
      "metadata": {
        "colab": {
          "base_uri": "https://localhost:8080/"
        },
        "id": "XX6HK29CMq-R",
        "outputId": "6ae3b09d-e29e-4a55-a1e6-aa39c19ff39b"
      },
      "execution_count": null,
      "outputs": [
        {
          "output_type": "stream",
          "name": "stdout",
          "text": [
            "NL\n"
          ]
        }
      ]
    },
    {
      "cell_type": "code",
      "source": [
        "emp[0]['Years of experience']==Vacan[0]['Experience']"
      ],
      "metadata": {
        "colab": {
          "base_uri": "https://localhost:8080/"
        },
        "id": "I34_KJFmMuNy",
        "outputId": "50d6168d-c22e-43cd-fd61-22247652dcc9"
      },
      "execution_count": null,
      "outputs": [
        {
          "output_type": "execute_result",
          "data": {
            "text/plain": [
              "True"
            ]
          },
          "metadata": {},
          "execution_count": 4
        }
      ]
    },
    {
      "cell_type": "code",
      "source": [
        "vacan_list=[]\n",
        "for i in range(len(Vacan)):\n",
        "  result=dict((k,Vacan[i][k])\n",
        "  for k in ['Soft Skills','Hard Skills','Salary','Experience','Country','City']\n",
        "   if k in Vacan[i])\n",
        "  vacan_list.append(result)"
      ],
      "metadata": {
        "id": "M5jHHO9bMyRZ"
      },
      "execution_count": null,
      "outputs": []
    },
    {
      "cell_type": "code",
      "source": [
        "for j in range(len(Vacan)):\n",
        "  vacan_list[j]['Soft Skills']=list(Vacan[j]['Soft Skills'].split(\",\"))\n",
        "  vacan_list[j]['Hard Skills']=list(Vacan[j]['Hard Skills'].split(\",\"))"
      ],
      "metadata": {
        "id": "-co7b5HKM1MX"
      },
      "execution_count": null,
      "outputs": []
    },
    {
      "cell_type": "code",
      "source": [
        "vacan_list"
      ],
      "metadata": {
        "id": "xIOV0qCCM3ro"
      },
      "execution_count": null,
      "outputs": []
    },
    {
      "cell_type": "code",
      "source": [
        "emp_list=[]\n",
        "for i in range(len(emp)):\n",
        "  seperate_list=dict((k,emp[i][k])\n",
        "  for k in ['Job Preference','Soft Skills','Hard Skills','Salary Aim','Years of experience','Location']\n",
        "   if k in emp[i])\n",
        "  emp_list.append(result)"
      ],
      "metadata": {
        "id": "gysP7VM2M4zW"
      },
      "execution_count": null,
      "outputs": []
    },
    {
      "cell_type": "code",
      "source": [
        "emp_list"
      ],
      "metadata": {
        "id": "VDddhP5OM8N2"
      },
      "execution_count": null,
      "outputs": []
    },
    {
      "cell_type": "code",
      "source": [
        "k=0\n",
        "for i in range(len(emp)):\n",
        "  k+=1\n",
        "  globals()[\"emp\" +str(k)]=[]\n",
        "  for j in range(len(Vacan)):\n",
        "    sof_skils=0\n",
        "    country=0\n",
        "    hard_skils=0\n",
        "    exp=0\n",
        "    city=0\n",
        "    total=0\n",
        "    sal=0\n",
        "    for y,z in zip(vacan_list[j],emp_list[i]):\n",
        "      if y==\"Salary\" and z==\"Salary\":\n",
        "        sal=((vacan_list[j][y])/(emp_list[i][z]))*40\n",
        "      elif y==\"Experience\" and z==\"Experience\":\n",
        "        exp=((vacan_list[j][y])-(emp_list[i][z]))*5\n",
        "      elif y==\"Soft Skills\" and z==\"Soft Skills\":\n",
        "        sof_skils=(len(set(vacan_list[j][y]).intersection(emp_list[i][z])))*5\n",
        "      elif y==\"Hard Skills\" and z==\"Hard Skills\":\n",
        "        hard_skils=(len(set(vacan_list[j][y]).intersection(emp_list[i][z])))*20\n",
        "      elif y==\"Country\" and z==\"Country\":\n",
        "        # hard_skils=(len(set(vacan_list[j][y]).intersection(emp_list[i][z])))*2\n",
        "         if(vacan_list[j][y] == emp_list[i][z])==True:\n",
        "           country=15\n",
        "      elif(y=='City' and z=='City'):\n",
        "        if(vacan_list[j][y] == emp_list[i][z])==True:\n",
        "          city=15\n",
        "    total=sal+sof_skils+country+hard_skils+exp+city\n",
        "    globals()[\"emp\" + str(k)].append(total)\n",
        "print(emp3)"
      ],
      "metadata": {
        "colab": {
          "base_uri": "https://localhost:8080/"
        },
        "id": "tEjF32qjNMex",
        "outputId": "45a2ec23-d094-451a-fba5-7191c326ee5f"
      },
      "execution_count": null,
      "outputs": [
        {
          "output_type": "stream",
          "name": "stdout",
          "text": [
            "[59.38617815592985, 35.27435318631707, 46.03142906754645, 58.80534815072061, 52.69317589859351, 36.544538982462235, 55.103316548011804, 69.45042542108004, 69.846327487411, 67.35283903455462, 36.502865080743184, 69.79770793540544, 62.852925855183194, 77.15749262024657, 65.61121722521271, 63.596110435839556, 91.0349018926897, 39.16304914047578, 64.77773919083174, 58.3677721826706, 71.3821844070151, 60.1415176245876, 36.01059211668692, 61.43774960930717, 52.16617468310471, 59.808126410835214, 50.276089598888696, 42.35804827226949, 68.60045146726863, 64.3254037159229, 57.41448168084737, 70.19100538287897, 59.6657405799618, 47.89894078833131, 46.398680326445565, 66.46292759159576, 41.406494183017884, 90.36117381489842, 64.37749609307171, 39.802917173120335, 73.85223129015455, 46.482896336169475, 49.46344851536725, 39.84372286855357, 52.51866643514499, 45.15627713144643, 68.21844070151067, 70.69369682236498, 39.14134398333044, 58.680326445563466, 63.399027608959884, 69.05365514846328, 64.04497308560514, 69.98610869942698, 48.616079180413266, 52.76002778260114, 49.683972911963885, 55.45407188748047, 55.003472825143255, 50.54089251606182, 66.19465184927938, 79.21427331133877, 77.91630491404757, 81.4776870984546, 77.09411356138219, 88.21496787636742, 50.86473346067025, 87.32592463969439, 59.297621114776874, 88.22191352665394, 98.11599235978468, 71.22938010071194, 51.683451988192395, 38.524049314117036, 65.97933669039763, 50.11720784858482, 66.13735023441569, 60.082479597152286, 57.42750477513457, 70.91595763153325, 53.42246917867685, 73.62823406841466, 43.197603750651155, 59.63535335995833, 35.642472651502, 45.53828789720438, 35.642472651502, 65.95068588296579, 66.26671297100191, 55.94113561382184, 66.247612432714, 52.22781732939747, 45.8291370029519, 64.53464143080396, 79.33929501649592, 61.252821670428894, 86.21375238756728, 64.189963535336, 82.38669907970134, 95.0]\n"
          ]
        }
      ]
    },
    {
      "cell_type": "code",
      "source": [
        "#importing json library\n",
        "import json\n",
        "from google.colab import files\n",
        "with open(\"/content/employees.json\") as empjson:\n",
        "  emp=json.load(empjson)\n",
        "\n",
        "with open(\"/content/Vacancies 3.json\") as vacancijson:\n",
        "  vac=json.load(vacancijson)\n",
        "\n",
        "print(vac[0]['Soft Skills'])\n"
      ],
      "metadata": {
        "colab": {
          "base_uri": "https://localhost:8080/"
        },
        "id": "xXsJKGvbOOFS",
        "outputId": "c7c2de64-b345-4d21-faad-b74586ee9e93"
      },
      "execution_count": null,
      "outputs": [
        {
          "output_type": "stream",
          "name": "stdout",
          "text": [
            "Sales,Presentation Skills,Mentoring,Client Management,Team work\n"
          ]
        }
      ]
    },
    {
      "cell_type": "code",
      "source": [
        "match_val_list_vac=[]\n",
        "for i in range(len(vac)):\n",
        "  result=dict((k,vac[i][k])\n",
        "           for k in ['Soft Skills','Hard Skills','Salary','Expereince','Country','City']\n",
        "            if k in vac[i])\n",
        "  match_val_list_vac.append(result)\n",
        "\n",
        "for index in range(len(vac)):\n",
        "  match_val_list_vac[index]['Soft Skills']=list(vac[index]['Soft Skills'].split(\",\"))\n",
        "  match_val_list_vac[index]['Hard Skills']=list(vac[index]['Hard Skills'].split(\",\"))\n",
        "\n",
        "print(match_val_list_vac)"
      ],
      "metadata": {
        "colab": {
          "base_uri": "https://localhost:8080/"
        },
        "id": "Eada9OhiPWBR",
        "outputId": "b830f572-541b-46c5-e4c8-f6d4b2178d5e"
      },
      "execution_count": null,
      "outputs": [
        {
          "output_type": "stream",
          "name": "stdout",
          "text": [
            "[{'Soft Skills': ['Sales', 'Presentation Skills', 'Mentoring', 'Client Management', 'Team work'], 'Hard Skills': ['Javascript', 'C++', 'AWS'], 'Salary': 3511, 'Country': 'USA', 'City': 'Woodland Hills'}, {'Soft Skills': ['Mentoring', 'Sales', 'Team work'], 'Hard Skills': ['SQL', 'Python', 'Javascript', 'SQL', 'Python'], 'Salary': 2919, 'Country': 'USA', 'City': 'Middletown'}, {'Soft Skills': ['Sales', 'Presentation Skills', 'Client Management'], 'Hard Skills': ['Javascript', 'Tensorflow', 'Python', 'Javascript', 'Tensorflow'], 'Salary': 3028, 'Country': 'USA', 'City': 'New York'}, {'Soft Skills': ['Sales', 'Teaching', 'Presentation Skills'], 'Hard Skills': ['SQL', 'AWS', 'AWS', 'SQL', 'AWS'], 'Salary': 5587, 'Country': 'USA', 'City': 'New York'}, {'Soft Skills': ['Presentation Skills', 'Adaptability', 'Teaching'], 'Hard Skills': ['Jupyter Notebooks', 'AWS', 'AWS', 'Jupyter Notebooks', 'AWS'], 'Salary': 4707, 'Country': 'USA', 'City': 'Charlotte'}, {'Soft Skills': ['Adaptability', 'Client Management', 'Adaptability'], 'Hard Skills': ['AWS', 'SQL', 'SQL', 'AWS', 'SQL'], 'Salary': 2382, 'Country': 'USA', 'City': 'New York'}, {'Soft Skills': ['Presentation Skills', 'Presentation Skills', 'Mentoring'], 'Hard Skills': ['Tensorflow', 'C++', 'Python', 'Tensorflow', 'C++'], 'Salary': 5054, 'Country': 'USA', 'City': 'New York'}, {'Soft Skills': ['Client Management', 'Client Management', 'Client Management'], 'Hard Skills': ['C++', 'C++', 'SQL', 'C++', 'C++'], 'Salary': 4960, 'Country': 'USA', 'City': 'Santa Clara'}, {'Soft Skills': ['Adaptability', 'Client Management', 'Sales'], 'Hard Skills': ['C++', 'Tensorflow', 'C++', 'C++', 'Tensorflow'], 'Salary': 5017, 'Country': 'USA', 'City': 'New York'}, {'Soft Skills': ['Client Management', 'Teaching', 'Sales'], 'Hard Skills': ['C#', 'SQL', 'SQL', 'C#', 'SQL'], 'Salary': 4658, 'Country': 'USA', 'City': 'San Francisco'}, {'Soft Skills': ['Sales', 'Sales', 'Teaching'], 'Hard Skills': ['Tensorflow', 'SQL', 'C#', 'Tensorflow', 'SQL'], 'Salary': 2376, 'Country': 'USA', 'City': 'Monterey'}, {'Soft Skills': ['Sales', 'Sales', 'Client Management'], 'Hard Skills': ['SQL', 'Jupyter Notebooks', 'SQL', 'SQL', 'Jupyter Notebooks'], 'Salary': 5010, 'Country': 'USA', 'City': 'Reston'}, {'Soft Skills': ['Sales', 'Presentation Skills', 'Sales'], 'Hard Skills': ['Jupyter Notebooks', 'Tensorflow', 'SQL', 'Jupyter Notebooks', 'Tensorflow'], 'Salary': 4730, 'Country': 'USA', 'City': 'Reston'}, {'Soft Skills': ['Presentation Skills', 'Adaptability', 'Client Management'], 'Hard Skills': ['SQL', 'Javascript', 'R', 'SQL', 'Javascript'], 'Salary': 3910, 'Country': 'USA', 'City': 'Salt Lake City'}, {'Soft Skills': ['Client Management', 'Adaptability', 'Client Management'], 'Hard Skills': ['C#', 'Javascript', 'Javascript', 'C#', 'Javascript'], 'Salary': 5847, 'Country': 'USA', 'City': 'Washington'}, {'Soft Skills': ['Sales', 'Mentoring', 'Client Management'], 'Hard Skills': ['C++', 'SQL', 'Javascript', 'C++', 'SQL'], 'Salary': 4837, 'Country': 'USA', 'City': 'Mclean'}, {'Soft Skills': ['Mentoring', 'Presentation Skills', 'Presentation Skills'], 'Hard Skills': ['C#', 'Tensorflow', 'R', 'C#', 'Tensorflow'], 'Salary': 5908, 'Country': 'USA', 'City': 'Boston'}, {'Soft Skills': ['Client Management', 'Mentoring', 'Sales'], 'Hard Skills': ['Javascript', 'Python', 'C++', 'Javascript', 'Python'], 'Salary': 2759, 'Country': 'USA', 'City': 'Mclean'}, {'Soft Skills': ['Presentation Skills', 'Teaching', 'Mentoring'], 'Hard Skills': ['AWS', 'Tensorflow', 'C++', 'AWS', 'Tensorflow'], 'Salary': 5727, 'Country': 'USA', 'City': 'Seattle'}, {'Soft Skills': ['Client Management', 'Mentoring', 'Mentoring'], 'Hard Skills': ['AWS', 'Tensorflow', 'SQL', 'AWS', 'Tensorflow'], 'Salary': 5524, 'Country': 'USA', 'City': 'Newark'}, {'Soft Skills': ['Presentation Skills', 'Teaching', 'Teaching'], 'Hard Skills': ['SQL', 'C#', 'C#', 'SQL', 'C#'], 'Salary': 5958, 'Country': 'USA', 'City': 'Los Angeles'}, {'Soft Skills': ['Presentation Skills', 'Mentoring', 'Client Management'], 'Hard Skills': ['R', 'Python', 'SQL', 'R', 'Python'], 'Salary': 2180, 'Country': 'USA', 'City': 'Santa Monica'}, {'Soft Skills': ['Mentoring', 'Presentation Skills', 'Teaching'], 'Hard Skills': ['SQL', 'Jupyter Notebooks', 'C++', 'SQL', 'Jupyter Notebooks'], 'Salary': 3025, 'Country': 'USA', 'City': 'Cambridge'}, {'Soft Skills': ['Presentation Skills', 'Mentoring', 'Sales'], 'Hard Skills': ['Javascript', 'C#', 'Jupyter Notebooks', 'Javascript', 'C#'], 'Salary': 5966, 'Country': 'USA', 'City': 'Plano'}, {'Soft Skills': ['Mentoring', 'Sales', 'Adaptability'], 'Hard Skills': ['C#', 'AWS', 'Jupyter Notebooks', 'C#', 'AWS'], 'Salary': 5351, 'Country': 'USA', 'City': 'Dallas'}, {'Soft Skills': ['Teaching', 'Teaching', 'Sales'], 'Hard Skills': ['C#', 'C#', 'R', 'C#', 'C#'], 'Salary': 2132, 'Country': 'USA', 'City': 'Dallas'}, {'Soft Skills': ['Client Management', 'Teaching', 'Client Management'], 'Hard Skills': ['Jupyter Notebooks', 'C++', 'AWS', 'Jupyter Notebooks', 'C++'], 'Salary': 4359, 'Country': 'USA', 'City': 'Houston'}, {'Soft Skills': ['Client Management', 'Mentoring', 'Teaching'], 'Hard Skills': ['Tensorflow', 'AWS', 'AWS', 'Tensorflow', 'AWS'], 'Salary': 3219, 'Country': 'USA', 'City': 'Bothell'}, {'Soft Skills': ['Adaptability', 'Client Management', 'Adaptability'], 'Hard Skills': ['R', 'SQL', 'R', 'R', 'SQL'], 'Salary': 2678, 'Country': 'USA', 'City': 'Houston'}, {'Soft Skills': ['Mentoring', 'Adaptability', 'Teaching'], 'Hard Skills': ['Javascript', 'C++', 'C#', 'Javascript', 'C++'], 'Salary': 4942, 'Country': 'USA', 'City': 'Seattle'}, {'Soft Skills': ['Adaptability', 'Teaching', 'Sales'], 'Hard Skills': ['Tensorflow', 'SQL', 'SQL', 'Tensorflow', 'SQL'], 'Salary': 3947, 'Country': 'USA', 'City': 'Irvine'}, {'Soft Skills': ['Adaptability', 'Teaching', 'Mentoring'], 'Hard Skills': ['AWS', 'C++', 'R', 'AWS', 'C++'], 'Salary': 2907, 'Country': 'USA', 'City': 'Chantilly'}, {'Soft Skills': ['Teaching', 'Teaching', 'Mentoring'], 'Hard Skills': ['Python', 'AWS', 'C++', 'Python', 'AWS'], 'Salary': 4991, 'Country': 'USA', 'City': 'West Chester Township'}, {'Soft Skills': ['Sales', 'Presentation Skills', 'Sales'], 'Hard Skills': ['Javascript', 'Tensorflow', 'AWS', 'Javascript', 'Tensorflow'], 'Salary': 2577, 'Country': 'USA', 'City': 'Tallahassee'}, {'Soft Skills': ['Sales', 'Adaptability', 'Teaching'], 'Hard Skills': ['Jupyter Notebooks', 'Jupyter Notebooks', 'Jupyter Notebooks', 'Jupyter Notebooks', 'Jupyter Notebooks'], 'Salary': 2361, 'Country': 'USA', 'City': 'Dallas'}, {'Soft Skills': ['Mentoring', 'Teaching', 'Teaching'], 'Hard Skills': ['C++', 'R', 'C#', 'C++', 'R'], 'Salary': 3810, 'Country': 'USA', 'City': 'Plymouth Meeting'}, {'Soft Skills': ['Mentoring', 'Client Management', 'Client Management'], 'Hard Skills': ['SQL', 'Python', 'Tensorflow', 'SQL', 'Python'], 'Salary': 3082, 'Country': 'USA', 'City': 'Alexandria'}, {'Soft Skills': ['Teaching', 'Sales', 'Sales'], 'Hard Skills': ['Tensorflow', 'R', 'C++', 'Tensorflow', 'R'], 'Salary': 5811, 'Country': 'USA', 'City': 'Seattle'}, {'Soft Skills': ['Client Management', 'Adaptability', 'Mentoring'], 'Hard Skills': ['Jupyter Notebooks', 'R', 'C++', 'Jupyter Notebooks', 'R'], 'Salary': 2070, 'Country': 'USA', 'City': 'Tampa'}, {'Soft Skills': ['Mentoring', 'Presentation Skills', 'Sales'], 'Hard Skills': ['SQL', 'C#', 'SQL', 'SQL', 'C#'], 'Salary': 3571, 'Country': 'USA', 'City': 'Boston'}, {'Soft Skills': ['Client Management', 'Client Management', 'Sales'], 'Hard Skills': ['Javascript', 'AWS', 'R', 'Javascript', 'AWS'], 'Salary': 4154, 'Country': 'USA', 'City': 'Waltham'}, {'Soft Skills': ['Client Management', 'Presentation Skills', 'Sales'], 'Hard Skills': ['SQL', 'C++', 'SQL', 'SQL', 'C++'], 'Salary': 3093, 'Country': 'USA', 'City': 'San Francisco'}, {'Soft Skills': ['Mentoring', 'Sales', 'Client Management'], 'Hard Skills': ['Jupyter Notebooks', 'Tensorflow', 'C#', 'Jupyter Notebooks', 'Tensorflow'], 'Salary': 4242, 'Country': 'USA', 'City': 'Palo Alto'}, {'Soft Skills': ['Adaptability', 'Client Management', 'Client Management'], 'Hard Skills': ['Python', 'SQL', 'C++', 'Python', 'SQL'], 'Salary': 2857, 'Country': 'USA', 'City': 'Philadelphia'}, {'Soft Skills': ['Presentation Skills', 'Teaching', 'Mentoring'], 'Hard Skills': ['C++', 'C++', 'SQL', 'C++', 'C++'], 'Salary': 3962, 'Country': 'USA', 'City': 'Reston'}, {'Soft Skills': ['Presentation Skills', 'Client Management', 'Presentation Skills'], 'Hard Skills': ['Tensorflow', 'Python', 'Javascript', 'Tensorflow', 'Python'], 'Salary': 2902, 'Country': 'USA', 'City': 'San Francisco'}, {'Soft Skills': ['Sales', 'Mentoring', 'Presentation Skills'], 'Hard Skills': ['R', 'Jupyter Notebooks', 'AWS', 'R', 'Jupyter Notebooks'], 'Salary': 2623, 'Country': 'USA', 'City': 'Charlotte'}, {'Soft Skills': ['Sales', 'Presentation Skills', 'Client Management'], 'Hard Skills': ['Tensorflow', 'C#', 'Jupyter Notebooks', 'Tensorflow', 'C#'], 'Salary': 5139, 'Country': 'USA', 'City': 'Irvine'}, {'Soft Skills': ['Client Management', 'Adaptability', 'Sales'], 'Hard Skills': ['SQL', 'Python', 'C#', 'SQL', 'Python'], 'Salary': 2036, 'Country': 'USA', 'City': 'New York'}, {'Soft Skills': ['Client Management', 'Adaptability', 'Presentation Skills'], 'Hard Skills': ['Tensorflow', 'Javascript', 'Tensorflow', 'Tensorflow', 'Javascript'], 'Salary': 5569, 'Country': 'USA', 'City': 'New York'}, {'Soft Skills': ['Mentoring', 'Sales', 'Mentoring'], 'Hard Skills': ['SQL', 'R', 'R', 'SQL', 'R'], 'Salary': 2649, 'Country': 'USA', 'City': 'New York'}, {'Soft Skills': ['Presentation Skills', 'Mentoring', 'Client Management'], 'Hard Skills': ['SQL', 'R', 'C++', 'SQL', 'R'], 'Salary': 4183, 'Country': 'USA', 'City': 'South San Francisco'}, {'Soft Skills': ['Adaptability', 'Sales', 'Client Management'], 'Hard Skills': ['Python', 'SQL', 'R', 'Python', 'SQL'], 'Salary': 2742, 'Country': 'USA', 'City': 'San Francisco'}, {'Soft Skills': ['Adaptability', 'Mentoring', 'Mentoring'], 'Hard Skills': ['Python', 'Tensorflow', 'Tensorflow', 'Python', 'Tensorflow'], 'Salary': 5757, 'Country': 'USA', 'City': 'Jersey City'}, {'Soft Skills': ['Teaching', 'Mentoring', 'Client Management'], 'Hard Skills': ['AWS', 'Tensorflow', 'Javascript', 'AWS', 'Tensorflow'], 'Salary': 4120, 'Country': 'USA', 'City': 'Monterey'}, {'Soft Skills': ['Mentoring', 'Teaching', 'Teaching'], 'Hard Skills': ['Tensorflow', 'R', 'R', 'Tensorflow', 'R'], 'Salary': 2557, 'Country': 'USA', 'City': 'Rosemont'}, {'Soft Skills': ['Sales', 'Teaching', 'Teaching'], 'Hard Skills': ['Jupyter Notebooks', 'SQL', 'C#', 'Jupyter Notebooks', 'SQL'], 'Salary': 2834, 'Country': 'USA', 'City': 'Milpitas'}, {'Soft Skills': ['Presentation Skills', 'Client Management', 'Mentoring'], 'Hard Skills': ['R', 'Tensorflow', 'Python', 'R', 'Tensorflow'], 'Salary': 2225, 'Country': 'USA', 'City': 'Menlo Park'}, {'Soft Skills': ['Presentation Skills', 'Mentoring', 'Adaptability'], 'Hard Skills': ['R', 'R', 'R', 'R', 'R'], 'Salary': 2880, 'Country': 'USA', 'City': 'Des Plaines'}, {'Soft Skills': ['Teaching', 'Mentoring', 'Sales'], 'Hard Skills': ['Jupyter Notebooks', 'C#', 'SQL', 'Jupyter Notebooks', 'C#'], 'Salary': 5117, 'Country': 'USA', 'City': 'Foster City'}, {'Soft Skills': ['Sales', 'Adaptability', 'Presentation Skills'], 'Hard Skills': ['Jupyter Notebooks', 'AWS', 'AWS', 'Jupyter Notebooks', 'AWS'], 'Salary': 5931, 'Country': 'USA', 'City': 'San Jose'}, {'Soft Skills': ['Client Management', 'Adaptability', 'Presentation Skills'], 'Hard Skills': ['Python', 'Python', 'R', 'Python', 'Python'], 'Salary': 4926, 'Country': 'USA', 'City': 'San Jose'}, {'Soft Skills': ['Client Management', 'Sales', 'Client Management'], 'Hard Skills': ['Tensorflow', 'Tensorflow', 'R', 'Tensorflow', 'Tensorflow'], 'Salary': 5459, 'Country': 'USA', 'City': 'Santa Clara'}, {'Soft Skills': ['Teaching', 'Mentoring', 'Client Management'], 'Hard Skills': ['R', 'Python', 'R', 'R', 'Python'], 'Salary': 4532, 'Country': 'USA', 'City': 'San Mateo'}, {'Soft Skills': ['Client Management', 'Teaching', 'Adaptability'], 'Hard Skills': ['Jupyter Notebooks', 'SQL', 'R', 'Jupyter Notebooks', 'SQL'], 'Salary': 3181, 'Country': 'USA', 'City': 'Mclean'}, {'Soft Skills': ['Mentoring', 'Presentation Skills', 'Mentoring'], 'Hard Skills': ['AWS', 'C++', 'R', 'AWS', 'C++'], 'Salary': 5502, 'Country': 'USA', 'City': 'Research Triangle Park'}, {'Soft Skills': ['Client Management', 'Adaptability', 'Adaptability'], 'Hard Skills': ['C#', 'Jupyter Notebooks', 'Tensorflow', 'C#', 'Jupyter Notebooks'], 'Salary': 3004, 'Country': 'USA', 'City': 'Alexandria'}, {'Soft Skills': ['Sales', 'Mentoring', 'Sales'], 'Hard Skills': ['R', 'AWS', 'R', 'R', 'AWS'], 'Salary': 5374, 'Country': 'USA', 'City': 'Cincinnati'}, {'Soft Skills': ['Mentoring', 'Adaptability', 'Client Management'], 'Hard Skills': ['Jupyter Notebooks', 'Jupyter Notebooks', 'Jupyter Notebooks', 'Jupyter Notebooks', 'Jupyter Notebooks'], 'Salary': 4938, 'Country': 'USA', 'City': 'Chantilly'}, {'Soft Skills': ['Presentation Skills', 'Sales', 'Sales'], 'Hard Skills': ['Tensorflow', 'R', 'Jupyter Notebooks', 'Tensorflow', 'R'], 'Salary': 5503, 'Country': 'USA', 'City': 'Washington'}, {'Soft Skills': ['Client Management', 'Client Management', 'Sales'], 'Hard Skills': ['C#', 'R', 'AWS', 'C#', 'R'], 'Salary': 4048, 'Country': 'USA', 'City': 'Rockville'}, {'Soft Skills': ['Presentation Skills', 'Presentation Skills', 'Client Management'], 'Hard Skills': ['Tensorflow', 'SQL', 'Tensorflow', 'Tensorflow', 'SQL'], 'Salary': 5936, 'Country': 'USA', 'City': 'Los Angeles'}, {'Soft Skills': ['Sales', 'Client Management', 'Adaptability'], 'Hard Skills': ['Tensorflow', 'Tensorflow', 'SQL', 'Tensorflow', 'Tensorflow'], 'Salary': 2402, 'Country': 'USA', 'City': 'Charlotte'}, {'Soft Skills': ['Client Management', 'Adaptability', 'Mentoring'], 'Hard Skills': ['AWS', 'AWS', 'SQL', 'AWS', 'AWS'], 'Salary': 2667, 'Country': 'USA', 'City': 'Renton'}, {'Soft Skills': ['Teaching', 'Teaching', 'Teaching'], 'Hard Skills': ['C#', 'C++', 'AWS', 'C#', 'C++'], 'Salary': 5900, 'Country': 'USA', 'City': 'Sunnyvale'}, {'Soft Skills': ['Mentoring', 'Teaching', 'Adaptability'], 'Hard Skills': ['SQL', 'SQL', 'AWS', 'SQL', 'SQL'], 'Salary': 5056, 'Country': 'USA', 'City': 'Waltham'}, {'Soft Skills': ['Presentation Skills', 'Sales', 'Teaching'], 'Hard Skills': ['C++', 'Javascript', 'R', 'C++', 'Javascript'], 'Salary': 4483, 'Country': 'USA', 'City': 'Bellevue'}, {'Soft Skills': ['Presentation Skills', 'Teaching', 'Sales'], 'Hard Skills': ['Jupyter Notebooks', 'SQL', 'C#', 'Jupyter Notebooks', 'SQL'], 'Salary': 5051, 'Country': 'USA', 'City': 'Los Angeles'}, {'Soft Skills': ['Adaptability', 'Client Management', 'Adaptability'], 'Hard Skills': ['C++', 'C++', 'AWS', 'C++', 'C++'], 'Salary': 3229, 'Country': 'USA', 'City': 'Houston'}, {'Soft Skills': ['Teaching', 'Sales', 'Teaching'], 'Hard Skills': ['R', 'C++', 'Javascript', 'R', 'C++'], 'Salary': 5171, 'Country': 'USA', 'City': 'Plymouth'}, {'Soft Skills': ['Mentoring', 'Adaptability', 'Adaptability'], 'Hard Skills': ['AWS', 'SQL', 'SQL', 'AWS', 'SQL'], 'Salary': 4812, 'Country': 'USA', 'City': 'Houston'}, {'Soft Skills': ['Teaching', 'Client Management', 'Teaching'], 'Hard Skills': ['R', 'Tensorflow', 'C++', 'R', 'Tensorflow'], 'Salary': 2682, 'Country': 'USA', 'City': 'McLean'}, {'Soft Skills': ['Client Management', 'Presentation Skills', 'Presentation Skills'], 'Hard Skills': ['Python', 'C++', 'C#', 'Python', 'C++'], 'Salary': 2620, 'Country': 'USA', 'City': 'Charlotte'}, {'Soft Skills': ['Client Management', 'Presentation Skills', 'Client Management'], 'Hard Skills': ['SQL', 'R', 'AWS', 'SQL', 'R'], 'Salary': 2827, 'Country': 'USA', 'City': 'Alexandria'}, {'Soft Skills': ['Adaptability', 'Sales', 'Mentoring'], 'Hard Skills': ['SQL', 'AWS', 'AWS', 'SQL', 'AWS'], 'Salary': 2972, 'Country': 'USA', 'City': 'El Segundo'}, {'Soft Skills': ['Adaptability', 'Mentoring', 'Client Management'], 'Hard Skills': ['C#', 'C#', 'AWS', 'C#', 'C#'], 'Salary': 2957, 'Country': 'USA', 'City': 'St. Louis'}, {'Soft Skills': ['Teaching', 'Adaptability', 'Mentoring'], 'Hard Skills': ['C#', 'C#', 'C#', 'C#', 'C#'], 'Salary': 2972, 'Country': 'USA', 'City': 'Waltham'}, {'Soft Skills': ['Client Management', 'Teaching', 'Client Management'], 'Hard Skills': ['C#', 'C#', 'C#', 'C#', 'C#'], 'Salary': 5176, 'Country': 'USA', 'City': 'Urbandale'}, {'Soft Skills': ['Mentoring', 'Teaching', 'Sales'], 'Hard Skills': ['R', 'C#', 'Python', 'R', 'C#'], 'Salary': 2342, 'Country': 'USA', 'City': 'Bellevue'}, {'Soft Skills': ['Adaptability', 'Adaptability', 'Teaching'], 'Hard Skills': ['SQL', 'Python', 'R', 'SQL', 'Python'], 'Salary': 3015, 'Country': 'USA', 'City': 'San Francisco Bay Area'}, {'Soft Skills': ['Adaptability', 'Client Management', 'Teaching'], 'Hard Skills': ['SQL', 'R', 'C++', 'SQL', 'R'], 'Salary': 3779, 'Country': 'USA', 'City': 'San Francisco'}, {'Soft Skills': ['Adaptability', 'Adaptability', 'Presentation Skills'], 'Hard Skills': ['Jupyter Notebooks', 'SQL', 'C#', 'Jupyter Notebooks', 'SQL'], 'Salary': 4640, 'Country': 'USA', 'City': 'Golden'}, {'Soft Skills': ['Sales', 'Adaptability', 'Client Management'], 'Hard Skills': ['Tensorflow', 'SQL', 'C#', 'Tensorflow', 'SQL'], 'Salary': 2279, 'Country': 'USA', 'City': 'Memphis'}, {'Soft Skills': ['Client Management', 'Client Management', 'Client Management'], 'Hard Skills': ['C#', 'C#', 'Jupyter Notebooks', 'C#', 'C#'], 'Salary': 5692, 'Country': 'USA', 'City': 'Redmond'}, {'Soft Skills': ['Client Management', 'Mentoring', 'Mentoring'], 'Hard Skills': ['Tensorflow', 'C#', 'R', 'Tensorflow', 'C#'], 'Salary': 4944, 'Country': 'USA', 'City': 'Bentonville'}, {'Soft Skills': ['Adaptability', 'Adaptability', 'Adaptability'], 'Hard Skills': ['R', 'C#', 'Tensorflow', 'R', 'C#'], 'Salary': 2340, 'Country': 'USA', 'City': 'Houston'}, {'Soft Skills': ['Mentoring', 'Client Management', 'Teaching'], 'Hard Skills': ['C#', 'R', 'C++', 'C#', 'R'], 'Salary': 4494, 'Country': 'USA', 'City': 'Boston'}, {'Soft Skills': ['Mentoring', 'Client Management', 'Mentoring'], 'Hard Skills': ['R', 'C++', 'C++', 'R', 'C++'], 'Salary': 2043, 'Country': 'USA', 'City': 'New York'}, {'Soft Skills': ['Adaptability', 'Client Management', 'Client Management'], 'Hard Skills': ['C#', 'R', 'C#', 'C#', 'R'], 'Salary': 3943, 'Country': 'USA', 'City': 'San Francisco'}, {'Soft Skills': ['Client Management', 'Client Management', 'Client Management'], 'Hard Skills': ['R', 'R', 'R', 'R', 'R'], 'Salary': 5759, 'Country': 'USA', 'City': 'Rockville'}]\n"
          ]
        }
      ]
    },
    {
      "cell_type": "code",
      "source": [
        "match_val_list_emp=[]\n",
        "for i in range(len(emp)):\n",
        "  result=dict((k,emp[i][k])\n",
        "           for k in ['Soft Skills','Hard Skills','Salary Aim','Years of experience','Location']\n",
        "            if k in emp[i])\n",
        "  match_val_list_emp.append(result)\n",
        "\n",
        "print(match_val_list_emp)"
      ],
      "metadata": {
        "colab": {
          "base_uri": "https://localhost:8080/"
        },
        "id": "5kYs9bYcPazB",
        "outputId": "638b597a-9eea-42c3-dd0b-27e02b7b3644"
      },
      "execution_count": null,
      "outputs": [
        {
          "output_type": "stream",
          "name": "stdout",
          "text": [
            "[{'Soft Skills': ['Marketing', 'Team work', 'Teaching', 'Presentation'], 'Hard Skills': ['R', 'Python', 'Excel'], 'Salary Aim': 3000, 'Years of experience': 4, 'Location': {'Country': 'NL', 'City': 'AMS'}}, {'Soft Skills': ['Team work', 'Teaching', 'Presentation'], 'Hard Skills': ['Python', 'Excel', 'Java', 'C++', 'C#'], 'Salary Aim': 3000, 'Years of experience': 2, 'Location': {'Country': 'NL', 'City': 'DELFT'}}, {'Soft Skills': ['Marketing', 'Team work', 'Teaching', 'Presentation'], 'Hard Skills': ['R', 'Python', 'Excel', 'Java', 'C++', 'C#', 'Jupyter Notebook'], 'Salary Aim': 5000, 'Years of experience': 8, 'Location': {'Country': 'USA', 'City': 'New York'}}, {'Soft Skills': ['Team work', 'Presentation'], 'Hard Skills': ['R', 'Excel'], 'Salary Aim': 2000, 'Years of experience': 0, 'Location': {'Country': 'USA', 'City': 'San Fransisco'}}, {'Soft Skills': ['Marketing', 'Team work', 'Teaching', 'Presentation'], 'Hard Skills': ['R', 'Python', 'Excel', 'Jupyter Notebook'], 'Salary Aim': 4000, 'Years of experience': 5, 'Location': {'Country': 'USA', 'City': 'New York'}}, {'Soft Skills': ['Marketing', 'Team work', 'Presentation'], 'Hard Skills': ['R', 'Excel'], 'Salary Aim': 2500, 'Years of experience': 2, 'Location': {'Country': 'USA', 'City': 'Boston'}}, {'Soft Skills': ['Marketing', 'Team work', 'Teaching', 'Presentation'], 'Hard Skills': ['R', 'Python', 'Excel'], 'Salary Aim': 3500, 'Years of experience': 1, 'Location': {'Country': 'USA', 'City': 'Connecticut'}}, {'Soft Skills': ['Marketing', 'Team work', 'Teaching', 'Presentation'], 'Hard Skills': ['R', 'Python', 'Excel'], 'Salary Aim': 5500, 'Years of experience': 8, 'Location': {'Country': 'NL', 'City': 'Maastricht'}}, {'Soft Skills': ['Marketing', 'Team work', 'Teaching', 'Mentoring'], 'Hard Skills': ['C#', 'Python', 'C++'], 'Salary Aim': 3800, 'Years of experience': 4, 'Location': {'Country': 'USA', 'City': 'Chicago'}}, {'Soft Skills': ['Presentation'], 'Hard Skills': ['Excel'], 'Salary Aim': 3000, 'Years of experience': 4, 'Location': {'Country': 'USA', 'City': 'Detroit'}}, {'Soft Skills': ['Marketing', 'Team work', 'Presentation'], 'Hard Skills': ['R', 'Excel'], 'Salary Aim': 3700, 'Years of experience': 2, 'Location': {'Country': 'USA', 'City': 'Massachussets'}}, {'Soft Skills': ['Marketing', 'Team work', 'Teaching', 'Presentation'], 'Hard Skills': ['R', 'Python', 'C#'], 'Salary Aim': 4200, 'Years of experience': 6, 'Location': {'Country': 'NL', 'City': 'Utrecht'}}, {'Soft Skills': ['Marketing', 'Team work', 'Teaching', 'Presentation'], 'Hard Skills': ['R', 'Python', 'Excel'], 'Salary Aim': 3000, 'Years of experience': 3, 'Location': {'Country': 'USA', 'City': 'Charlottesville'}}, {'Soft Skills': ['Marketing', 'Team work', 'Teaching', 'Presentation'], 'Hard Skills': ['R', 'Python', 'Excel'], 'Salary Aim': 2800, 'Years of experience': 4, 'Location': {'Country': 'USA', 'City': 'Seattle'}}, {'Soft Skills': ['Marketing', 'Team work', 'Teaching', 'Presentation'], 'Hard Skills': ['R', 'Python', 'Excel'], 'Salary Aim': 3000, 'Years of experience': 4, 'Location': {'Country': 'NL', 'City': 'Twente'}}, {'Soft Skills': ['Teaching', 'Presentation', 'Mentoring'], 'Hard Skills': ['Python', 'Excel'], 'Salary Aim': 4500, 'Years of experience': 6, 'Location': {'Country': 'USA', 'City': 'Philadelphia'}}, {'Soft Skills': ['Marketing', 'Team work', 'Teaching', 'Presentation'], 'Hard Skills': ['Excel'], 'Salary Aim': 2900, 'Years of experience': 2, 'Location': {'Country': 'USA', 'City': 'Los Angeles'}}, {'Soft Skills': ['Marketing', 'Presentation'], 'Hard Skills': ['R', 'Python', 'Excel'], 'Salary Aim': 3000, 'Years of experience': 3, 'Location': {'Country': 'USA', 'City': 'Miami'}}, {'Soft Skills': ['Teaching', 'Presentation'], 'Hard Skills': ['R', 'Excel'], 'Salary Aim': 3400, 'Years of experience': 2, 'Location': {'Country': 'NL', 'City': 'Den Haag'}}, {'Soft Skills': ['Marketing', 'Team work'], 'Hard Skills': ['R', 'Excel'], 'Salary Aim': 4200, 'Years of experience': 7, 'Location': {'Country': 'USA', 'City': 'Denver'}}]\n"
          ]
        }
      ]
    },
    {
      "cell_type": "code",
      "source": [
        "k=0\n",
        "for i in range(len(emp)):\n",
        "  k+=1\n",
        "  globals()[\"emp\" + str(k)] = []\n",
        "  for j in range(len(vac)):\n",
        "    sal=0\n",
        "    exp=0\n",
        "    softskill=0\n",
        "    hardskill=0\n",
        "    country=0\n",
        "    city=0\n",
        "    total=0\n",
        "    for x,y in zip( match_val_list_vac[j],match_val_list_emp[i]):\n",
        "      if(x=='Salary' and y=='Salary Aim'):\n",
        "        sal=((match_val_list_vac[j][x])/(match_val_list_emp[i][y]))*0.4\n",
        "      elif(x=='Experience' and y=='Years of experience'):\n",
        "        exp=((match_val_list_emp[i][y])-(match_val_list_vac[j][x]))*0.0\n",
        "      elif(x=='Soft Skills' and y=='Soft Skills'):\n",
        "        softskill=(len(set(match_val_list_vac[j][x]).intersection(match_val_list_emp[i][y])))*0.05\n",
        "      elif(x=='Hard Skills' and y=='Hard Skills'):\n",
        "        hardskill=(len(set(match_val_list_vac[j][x]).intersection(match_val_list_emp[i][y])))*0.2\n",
        "      elif(x=='Country' and y=='Location'):\n",
        "        if(match_val_list_vac[j][x] == match_val_list_emp[i][y]['Country'])==True:\n",
        "          country=0.15\n",
        "      elif(x=='City' and y=='Location'):\n",
        "        if(match_val_list_vac[j][x] == match_val_list_emp[i][y]['City'])==True:\n",
        "          city=0.15\n",
        "    total=sal+exp+softskill+hardskill+country+city\n",
        "    globals()[\"emp\" + str(k)].append(total)\n",
        "print(emp8)"
      ],
      "metadata": {
        "colab": {
          "base_uri": "https://localhost:8080/"
        },
        "id": "nURSmV5TPlT7",
        "outputId": "4857a956-0424-44da-d421-9a805b31ad38"
      },
      "execution_count": null,
      "outputs": [
        {
          "output_type": "stream",
          "name": "stdout",
          "text": [
            "[0.30534545454545453, 0.4622909090909091, 0.4202181818181818, 0.4563272727272727, 0.39232727272727275, 0.17323636363636363, 0.5675636363636364, 0.3607272727272728, 0.3648727272727273, 0.38876363636363637, 0.2228, 0.3643636363636364, 0.34400000000000003, 0.4843636363636364, 0.42523636363636363, 0.3517818181818182, 0.6296727272727273, 0.4006545454545455, 0.46650909090909093, 0.40174545454545457, 0.48330909090909085, 0.5585454545454546, 0.27, 0.4338909090909091, 0.3891636363636364, 0.40505454545454544, 0.36701818181818185, 0.2841090909090909, 0.39476363636363637, 0.40941818181818185, 0.33705454545454544, 0.46141818181818184, 0.6129818181818182, 0.18741818181818182, 0.2217090909090909, 0.527090909090909, 0.4241454545454546, 0.6726181818181818, 0.35054545454545455, 0.2597090909090909, 0.502109090909091, 0.22494545454545456, 0.3085090909090909, 0.40778181818181825, 0.3381454545454545, 0.4110545454545455, 0.39076363636363637, 0.3737454545454546, 0.3480727272727273, 0.4050181818181819, 0.3926545454545455, 0.5042181818181819, 0.5994181818181818, 0.6186909090909092, 0.34963636363636363, 0.4359636363636364, 0.25610909090909095, 0.5618181818181819, 0.4094545454545455, 0.42214545454545455, 0.4313454545454546, 0.7582545454545455, 0.5970181818181819, 0.7796000000000001, 0.4813454545454546, 0.6001454545454545, 0.2184727272727273, 0.5908363636363636, 0.35912727272727274, 0.6002181818181819, 0.4944, 0.431709090909091, 0.17469090909090912, 0.19396363636363637, 0.4790909090909091, 0.4177090909090909, 0.5760363636363637, 0.4173454545454546, 0.23483636363636365, 0.6260727272727273, 0.34996363636363637, 0.4450545454545455, 0.3905454545454546, 0.4056, 0.21614545454545456, 0.2150545454545455, 0.2661454545454546, 0.42643636363636367, 0.6203272727272728, 0.6692727272727272, 0.5248363636363637, 0.33745454545454545, 0.16574545454545456, 0.4139636363636364, 0.5595636363636364, 0.3701818181818182, 0.5768363636363636, 0.3485818181818182, 0.4867636363636364, 0.6188363636363636]\n"
          ]
        }
      ]
    },
    {
      "cell_type": "code",
      "source": [
        "result=[]\n",
        "for i in range(len(emp)):\n",
        "  #getting employee data\n",
        "  name=emp[i]['Name']\n",
        "  phone=emp[i]['Phone']\n",
        "  email=emp[i]['Email']\n",
        "  i+=1\n",
        "  temp=(globals()[\"emp\" + str(i)])\n",
        "  s=sorted(temp,reverse=True)[:3]\n",
        "\n",
        "  #getting Id's of vaccancies\n",
        "  first_val=temp.index(s[0])\n",
        "  second_val=temp.index(s[1])\n",
        "  third_val=temp.index(s[2])\n",
        "  first_ID=first_val+1\n",
        "  second_ID=second_val+1\n",
        "  third_ID=third_val+1\n",
        "\n",
        "  newdict={'Name':name,'Phone':phone,'Email':email,'First Vacancy ID':first_ID,'Second Vacancy ID':second_ID,'Third Vacancy ID':third_ID}\n",
        "  result.append(newdict)\n",
        "print(result)"
      ],
      "metadata": {
        "colab": {
          "base_uri": "https://localhost:8080/"
        },
        "id": "QLUptkTPPrqE",
        "outputId": "77d6b264-2d17-45ce-8d71-d6f54dc6773c"
      },
      "execution_count": null,
      "outputs": [
        {
          "output_type": "stream",
          "name": "stdout",
          "text": [
            "[{'Name': 'Jima Perez', 'Phone': '0654558089', 'Email': 'jima.perez@skillfuel.nl', 'First Vacancy ID': 62, 'Second Vacancy ID': 64, 'Third Vacancy ID': 38}, {'Name': 'Matthew Remm', 'Phone': '0658391233', 'Email': 'm.remm@kidzcode.nl', 'First Vacancy ID': 75, 'Second Vacancy ID': 33, 'Third Vacancy ID': 30}, {'Name': 'Evan Ghisly', 'Phone': '0678923488', 'Email': 'evan.ghisly@gmail.com', 'First Vacancy ID': 97, 'Second Vacancy ID': 36, 'Third Vacancy ID': 7}, {'Name': 'Asheev Lenon', 'Phone': '0684763766', 'Email': 'asheev.lenon@yahoo.com', 'First Vacancy ID': 17, 'Second Vacancy ID': 38, 'Third Vacancy ID': 100}, {'Name': 'Charlie Edmundsen', 'Phone': '0678973622', 'Email': 'charlie.edmundsen@hotmail.com', 'First Vacancy ID': 64, 'Second Vacancy ID': 62, 'Third Vacancy ID': 7}, {'Name': 'Emmett Kenton', 'Phone': '0683774855', 'Email': 'emk@gmail.com', 'First Vacancy ID': 17, 'Second Vacancy ID': 38, 'Third Vacancy ID': 100}, {'Name': 'Ann Lilde', 'Phone': '0672018288', 'Email': 'ann.lilde@psytrainers.nl', 'First Vacancy ID': 64, 'Second Vacancy ID': 62, 'Third Vacancy ID': 38}, {'Name': 'Igone Maschaft', 'Phone': '0626373288', 'Email': 'ig.mas@leidenuniv.nl', 'First Vacancy ID': 64, 'Second Vacancy ID': 62, 'Third Vacancy ID': 38}, {'Name': 'Tasha Fienne', 'Phone': '0683921244', 'Email': 'tasha.fienne@meritude.nl', 'First Vacancy ID': 75, 'Second Vacancy ID': 33, 'Third Vacancy ID': 30}, {'Name': 'Holly Mink', 'Phone': '0639201122', 'Email': 'hm@skillfuel.nl', 'First Vacancy ID': 24, 'Second Vacancy ID': 21, 'Third Vacancy ID': 72}, {'Name': 'Gerard Huffington', 'Phone': '0671899881', 'Email': 'gerard.huffington@telegraph.com', 'First Vacancy ID': 17, 'Second Vacancy ID': 38, 'Third Vacancy ID': 100}, {'Name': 'Bob Sietes', 'Phone': '0698373211', 'Email': 'bobsietes@hotmail.nl', 'First Vacancy ID': 17, 'Second Vacancy ID': 64, 'Third Vacancy ID': 97}, {'Name': 'Timothy Holland', 'Phone': '0638291822', 'Email': 'timothy.holland@att.com', 'First Vacancy ID': 62, 'Second Vacancy ID': 64, 'Third Vacancy ID': 38}, {'Name': 'Heather Logleather', 'Phone': '0612842388', 'Email': 'heather.logleather@complacement.com', 'First Vacancy ID': 38, 'Second Vacancy ID': 62, 'Third Vacancy ID': 64}, {'Name': 'Frida Schangenheim', 'Phone': '0638299182', 'Email': 'frida.schangenheim@gmbhdeutsch.de', 'First Vacancy ID': 62, 'Second Vacancy ID': 64, 'Third Vacancy ID': 38}, {'Name': 'Ali Mahim', 'Phone': '0639901122', 'Email': 'ali.mahim@skillfuel.nl', 'First Vacancy ID': 54, 'Second Vacancy ID': 33, 'Third Vacancy ID': 64}, {'Name': 'Lonzo Torres', 'Phone': '0653243229', 'Email': 'lonzo.torres@starbucks.com', 'First Vacancy ID': 21, 'Second Vacancy ID': 72, 'Third Vacancy ID': 78}, {'Name': 'Gaston Logan', 'Phone': '0623492355', 'Email': 'gaston.logan@brighton.com', 'First Vacancy ID': 62, 'Second Vacancy ID': 64, 'Third Vacancy ID': 17}, {'Name': 'Ted Sunda', 'Phone': '0638299188', 'Email': 'ted.sunda@hema.nl', 'First Vacancy ID': 38, 'Second Vacancy ID': 17, 'Third Vacancy ID': 100}, {'Name': 'Freddie Sale', 'Phone': '0682763533', 'Email': 'freddie.sale@nosstra.gr', 'First Vacancy ID': 17, 'Second Vacancy ID': 38, 'Third Vacancy ID': 100}]\n"
          ]
        }
      ]
    },
    {
      "cell_type": "code",
      "source": [
        "with open('/content/Results.json','w') as final:\n",
        "  json.dump(result,final,indent=2)\n",
        "files.download('Results.json')"
      ],
      "metadata": {
        "id": "69cUzHpSP_Xk"
      },
      "execution_count": null,
      "outputs": []
    }
  ]
}